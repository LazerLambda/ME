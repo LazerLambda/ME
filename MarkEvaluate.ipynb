{
 "metadata": {
  "language_info": {
   "codemirror_mode": {
    "name": "ipython",
    "version": 3
   },
   "file_extension": ".py",
   "mimetype": "text/x-python",
   "name": "python",
   "nbconvert_exporter": "python",
   "pygments_lexer": "ipython3",
   "version": "3.8.5-final"
  },
  "orig_nbformat": 2,
  "kernelspec": {
   "name": "python38564biteecc030c0a5c4e8bb53163bec15b264f",
   "display_name": "Python 3.8.5 64-bit",
   "language": "python"
  }
 },
 "nbformat": 4,
 "nbformat_minor": 2,
 "cells": [
  {
   "source": [
    "# Imports"
   ],
   "cell_type": "markdown",
   "metadata": {}
  },
  {
   "cell_type": "code",
   "execution_count": 1,
   "metadata": {},
   "outputs": [],
   "source": [
    "import itertools\n",
    "import numpy as np\n",
    "from scipy.optimize import minimize\n",
    "from sklearn.neighbors import KDTree\n",
    "from typing import Tuple"
   ]
  },
  {
   "source": [
    "# Binary function \n",
    "\n",
    "Binary function that determines if a point is in the hypersphere of a point from the candidate set\n",
    "\n",
    "> $f(s,S') = \\left\\{\\begin{array}{ll} 1, &  if || s'-s||_2 \\leq ||s-NN_k(s,S)[-1]||_2 \\\\ 0, & otherwise \\\\\\end{array}\\right.$\n",
    "\n",
    "where $NN_k(s,S)$ returns an ordered set containing s and its k-nearest neibors in the set S, in ascending order of Euclidean distancesto s. (Mordido, Meinel 2020)"
   ],
   "cell_type": "markdown",
   "metadata": {}
  },
  {
   "cell_type": "code",
   "execution_count": 7,
   "metadata": {},
   "outputs": [
    {
     "output_type": "stream",
     "name": "stdout",
     "text": [
      "[[0. 1.]]\n[[0. 1.]]\n[[0. 1.]]\n[[0.         1.41421356]]\n[[0. 1.]]\n[[0. 1.]]\n[[0.         1.41421356]]\n[[0.         1.         2.23606798]]\n[[0.         1.         2.23606798]]\n[[0.         1.         2.23606798]]\n[[0.         1.         1.41421356]]\n[[0.         1.41421356 2.23606798]]\n[[0.         1.         2.23606798]]\n[[0.         1.         1.41421356]]\n[[0.         1.41421356 2.23606798]]\n"
     ]
    },
    {
     "output_type": "error",
     "ename": "NameError",
     "evalue": "name 'Error' is not defined",
     "traceback": [
      "\u001b[0;31m---------------------------------------------------------------------------\u001b[0m",
      "\u001b[0;31mNameError\u001b[0m                                 Traceback (most recent call last)",
      "\u001b[0;32m<ipython-input-7-2f3099233789>\u001b[0m in \u001b[0;36m<module>\u001b[0;34m\u001b[0m\n\u001b[1;32m     33\u001b[0m     \u001b[0;32massert\u001b[0m \u001b[0mis_in_hypersphere\u001b[0m\u001b[0;34m(\u001b[0m\u001b[0mk\u001b[0m \u001b[0;34m=\u001b[0m \u001b[0;36m50\u001b[0m\u001b[0;34m,\u001b[0m \u001b[0ms\u001b[0m \u001b[0;34m=\u001b[0m \u001b[0mnp\u001b[0m\u001b[0;34m.\u001b[0m\u001b[0marray\u001b[0m\u001b[0;34m(\u001b[0m\u001b[0;34m[\u001b[0m\u001b[0;36m6\u001b[0m\u001b[0;34m,\u001b[0m \u001b[0;36m4\u001b[0m\u001b[0;34m]\u001b[0m\u001b[0;34m)\u001b[0m\u001b[0;34m,\u001b[0m \u001b[0msample\u001b[0m \u001b[0;34m=\u001b[0m \u001b[0mX\u001b[0m\u001b[0;34m)\u001b[0m \u001b[0;34m==\u001b[0m \u001b[0;36m1\u001b[0m\u001b[0;34m\u001b[0m\u001b[0;34m\u001b[0m\u001b[0m\n\u001b[1;32m     34\u001b[0m \u001b[0;34m\u001b[0m\u001b[0m\n\u001b[0;32m---> 35\u001b[0;31m \u001b[0mis_in_hypersphere_TEST\u001b[0m\u001b[0;34m(\u001b[0m\u001b[0;34m)\u001b[0m\u001b[0;34m\u001b[0m\u001b[0;34m\u001b[0m\u001b[0m\n\u001b[0m",
      "\u001b[0;32m<ipython-input-7-2f3099233789>\u001b[0m in \u001b[0;36mis_in_hypersphere_TEST\u001b[0;34m()\u001b[0m\n\u001b[1;32m     31\u001b[0m     \u001b[0;32massert\u001b[0m \u001b[0mis_in_hypersphere\u001b[0m\u001b[0;34m(\u001b[0m\u001b[0mk\u001b[0m \u001b[0;34m=\u001b[0m \u001b[0;36m2\u001b[0m\u001b[0;34m,\u001b[0m \u001b[0ms\u001b[0m \u001b[0;34m=\u001b[0m \u001b[0mnp\u001b[0m\u001b[0;34m.\u001b[0m\u001b[0marray\u001b[0m\u001b[0;34m(\u001b[0m\u001b[0;34m[\u001b[0m\u001b[0;36m6\u001b[0m\u001b[0;34m,\u001b[0m \u001b[0;36m4\u001b[0m\u001b[0;34m]\u001b[0m\u001b[0;34m)\u001b[0m\u001b[0;34m,\u001b[0m \u001b[0msample\u001b[0m \u001b[0;34m=\u001b[0m \u001b[0mX\u001b[0m\u001b[0;34m)\u001b[0m \u001b[0;34m==\u001b[0m \u001b[0;36m0\u001b[0m\u001b[0;34m\u001b[0m\u001b[0;34m\u001b[0m\u001b[0m\n\u001b[1;32m     32\u001b[0m \u001b[0;34m\u001b[0m\u001b[0m\n\u001b[0;32m---> 33\u001b[0;31m     \u001b[0;32massert\u001b[0m \u001b[0mis_in_hypersphere\u001b[0m\u001b[0;34m(\u001b[0m\u001b[0mk\u001b[0m \u001b[0;34m=\u001b[0m \u001b[0;36m50\u001b[0m\u001b[0;34m,\u001b[0m \u001b[0ms\u001b[0m \u001b[0;34m=\u001b[0m \u001b[0mnp\u001b[0m\u001b[0;34m.\u001b[0m\u001b[0marray\u001b[0m\u001b[0;34m(\u001b[0m\u001b[0;34m[\u001b[0m\u001b[0;36m6\u001b[0m\u001b[0;34m,\u001b[0m \u001b[0;36m4\u001b[0m\u001b[0;34m]\u001b[0m\u001b[0;34m)\u001b[0m\u001b[0;34m,\u001b[0m \u001b[0msample\u001b[0m \u001b[0;34m=\u001b[0m \u001b[0mX\u001b[0m\u001b[0;34m)\u001b[0m \u001b[0;34m==\u001b[0m \u001b[0;36m1\u001b[0m\u001b[0;34m\u001b[0m\u001b[0;34m\u001b[0m\u001b[0m\n\u001b[0m\u001b[1;32m     34\u001b[0m \u001b[0;34m\u001b[0m\u001b[0m\n\u001b[1;32m     35\u001b[0m \u001b[0mis_in_hypersphere_TEST\u001b[0m\u001b[0;34m(\u001b[0m\u001b[0;34m)\u001b[0m\u001b[0;34m\u001b[0m\u001b[0;34m\u001b[0m\u001b[0m\n",
      "\u001b[0;32m<ipython-input-7-2f3099233789>\u001b[0m in \u001b[0;36mis_in_hypersphere\u001b[0;34m(s, sample, k)\u001b[0m\n\u001b[1;32m      3\u001b[0m         \u001b[0;31m# Error handling\u001b[0m\u001b[0;34m\u001b[0m\u001b[0;34m\u001b[0m\u001b[0;34m\u001b[0m\u001b[0m\n\u001b[1;32m      4\u001b[0m         \u001b[0;32mif\u001b[0m \u001b[0mk\u001b[0m \u001b[0;34m>\u001b[0m \u001b[0mlen\u001b[0m\u001b[0;34m(\u001b[0m\u001b[0msample\u001b[0m\u001b[0;34m)\u001b[0m\u001b[0;34m:\u001b[0m\u001b[0;34m\u001b[0m\u001b[0;34m\u001b[0m\u001b[0m\n\u001b[0;32m----> 5\u001b[0;31m             \u001b[0;32mraise\u001b[0m \u001b[0mError\u001b[0m\u001b[0;34m(\u001b[0m\u001b[0;34m\"k cannot be larger than sample!\"\u001b[0m\u001b[0;34m)\u001b[0m\u001b[0;34m\u001b[0m\u001b[0;34m\u001b[0m\u001b[0m\n\u001b[0m\u001b[1;32m      6\u001b[0m \u001b[0;34m\u001b[0m\u001b[0m\n\u001b[1;32m      7\u001b[0m         \u001b[0mkdt\u001b[0m \u001b[0;34m:\u001b[0m \u001b[0mKDTree\u001b[0m \u001b[0;34m=\u001b[0m \u001b[0mKDTree\u001b[0m\u001b[0;34m(\u001b[0m\u001b[0msample\u001b[0m\u001b[0;34m,\u001b[0m \u001b[0mmetric\u001b[0m\u001b[0;34m=\u001b[0m\u001b[0;34m'euclidean'\u001b[0m\u001b[0;34m)\u001b[0m\u001b[0;34m\u001b[0m\u001b[0;34m\u001b[0m\u001b[0m\n",
      "\u001b[0;31mNameError\u001b[0m: name 'Error' is not defined"
     ]
    }
   ],
   "source": [
    "def is_in_hypersphere(s : np.ndarray, sample: np.ndarray, k : int = 2) -> bool:\n",
    "\n",
    "        # Error handling\n",
    "        if k > len(sample):\n",
    "            raise Error(\"k cannot be larger than sample!\")\n",
    "\n",
    "        kdt : KDTree = KDTree(sample, metric='euclidean')\n",
    "\n",
    "        for s_ in sample:\n",
    "            # get k-nearest neighbor (k + 1 since ||s_ - s_|| = 0)\n",
    "            k_nearest_neighbor_distances, _ = \\\n",
    "                kdt.query([s_], k = k + 1, return_distance = True)\n",
    "            print(k_nearest_neighbor_distances)\n",
    "\n",
    "            # check wether s_ is closer to s than it's k-nearest neighbor\n",
    "            if np.linalg.norm(s_ - s) <= np.amax(k_nearest_neighbor_distances):\n",
    "                return True\n",
    "        return False\n",
    "\n",
    "\n",
    "def is_in_hypersphere_TEST():\n",
    "    X = np.array([[-1, -1], [-2, -1], [-3, -2], [1, 1], [2, 1], [3, 2]])\n",
    "\n",
    "    # k = 1\n",
    "    assert is_in_hypersphere(k = 1, s = np.array([-1,-1.5]), sample = X) == 1\n",
    "    assert is_in_hypersphere(k = 1, s = np.array([-4, -4]), sample = X) == 0\n",
    "\n",
    "    # k = 2\n",
    "    assert is_in_hypersphere(k = 2, s = np.array([0.5, 0.5]), sample = X) == 1\n",
    "    assert is_in_hypersphere(k = 2, s = np.array([0, 0]), sample = X) == 1\n",
    "    assert is_in_hypersphere(k = 2, s = np.array([6, 4]), sample = X) == 0\n",
    "\n",
    "    assert is_in_hypersphere(k = 50, s = np.array([6, 4]), sample = X) == 1\n",
    "\n",
    "is_in_hypersphere_TEST()"
   ]
  },
  {
   "source": [
    "# Petersen Estimator\n",
    "\n",
    "> The Petersen estimator (Ricker, 1975), relies on a single marking step and a single recapture step.  Itmerely assumes that the ratio of marked samples (M) in the marking step and the population size (P)is       equivalent to the ratio of recaptured samples (R) and captured samples (C) in the recapture step. Thepopulation size estimate (̂PPetersen) is then calculated as follows:\"\n",
    "\n",
    "> $\\hat{P}_{Petersen}(S,S') = \\frac{C(S,S')M(S,S')}{R_T(S,S')}$\n",
    "\n",
    "\n"
   ],
   "cell_type": "markdown",
   "metadata": {}
  },
  {
   "cell_type": "code",
   "execution_count": 12,
   "metadata": {},
   "outputs": [],
   "source": [
    "class Petersen():\n",
    "    def __init__(self, reference : np.ndarray, candidate : np.ndarray):\n",
    "        self.reference = reference\n",
    "        self.candidate = candidate\n",
    "\n",
    "    is_in_hypersphere = staticmethod(is_in_hypersphere)\n",
    "\n",
    "    def estimate(self) -> float:\n",
    "        mc = lambda s_, s : len(s) + sum([is_in_hypersphere(elem, s) for elem in s_])\n",
    "        r = lambda s_, s : sum([self.is_in_hypersphere(elem, s) for elem in s_]) + sum([self.is_in_hypersphere(elem, s_) for elem in s])\n",
    "        return mc(self.reference, self.candidate) * mc(self.candidate, self.reference) / r(self.reference, self.candidate)\n",
    "\n",
    "    def accuracy_loss(p_hat, p):\n",
    "    # Errorhandling\n",
    "    if p == 0:\n",
    "        return -1\n",
    "    a = abs((p_hat - p) / p)\n",
    "    return 1 if a > 1 else a\n",
    "\n",
    "def accuracy_loss_TEST():\n",
    "    assert accuracy_loss(4, 5) == 0.2\n",
    "    assert accuracy_loss(5, 2) == 1\n",
    "    assert accuracy_loss(0, 0)\n",
    "\n",
    "accuracy_loss_TEST()"
   ]
  },
  {
   "source": [
    "# Schnabel Estimator\n",
    "> The Petersen estimator was extended by Schnabel (1938) to incorporate multiple markings and recap-tures. The population size estimate (̂PSchnabel) is calculated fromTconsecutive Petersen estimates:\n",
    "> $\\hat{P}_{Schnabel}(S,S') = \\frac{C_T(S,S') M_T(S,S')}{R_T(S,S')}$\n",
    "\n",
    "with \n",
    "\n",
    "$M(t, S, S') = \\left\\{\\begin{array}{ll} S \\cup \\{s' \\in S' | f(s', S) = 1\\}, & t = 1 \\\\ S \\cup S', & t = T \\\\ M(1, S, S') \\cup (\\bigcup^{t - 1}_{i = 1} NN_k(s_i', S') ) & otherwise \\\\\\end{array}\\right.$\n",
    "\n",
    "$C_T = (K + 1) * |S'| + \\sum_{s'\\in S'} \\sum_{s \\in S} f(s, NN_k(s', S'))$"
   ],
   "cell_type": "markdown",
   "metadata": {}
  },
  {
   "cell_type": "code",
   "execution_count": 22,
   "metadata": {},
   "outputs": [],
   "source": [
    "class Schnabel():\n",
    "    @staticmethod\n",
    "    def k_nearest_neighbor_set(sample : np.ndarray, data_set : np.ndarray, kdt : KDTree, k : int, point_in_data : bool = False) -> np.ndarray:\n",
    "\n",
    "        k_nearest_neighbor_indices = None\n",
    "\n",
    "        if point_in_data:\n",
    "            # taking the quaried point into account\n",
    "            k_nearest_neighbor_indices = kdt.query([sample], k = k + 1)\n",
    "            k_nearest_neighbor_indices = k_nearest_neighbor_indices[1:]\n",
    "        else:\n",
    "            k_nearest_neighbor_indices = kdt.query([sample], k = k)\n",
    "\n",
    "        return data_set[k_nearest_neighbor_indices]\n",
    "\n",
    "        \n",
    "\n",
    "\n",
    "    # T = |S union S'|\n",
    "    @staticmethod\n",
    "    def mark(t : set, set0 : set, set1 : set, k : int) -> set:\n",
    "        if t == 1:\n",
    "            return set0.union(set([s1 for s1 in set1 if is_in_hypersphere(s1, set0)]))\n",
    "        else:\n",
    "            kdt : KDTree = KDTree(np.asarray(list(set1)), metric='euclidean')\n",
    "            set_tmp = set0.union(set([s1 for s1 in set1 if is_in_hypersphere(s1, set0)]))\n",
    "            for s1 in set(itertools.islice(set1, t - 1)): # range from 0 until t -1 \n",
    "                k_nearest_neighbors =k_nearest_neighbor_set(s1, set1, kdt, k, point_in_data=True)\n",
    "                set_temp.union(set(k_nearest_neighbors))\n",
    "            return set_tmp\n",
    "\n",
    "    @staticmethod\n",
    "    def capture(set0 : set, set1 : set, k : int) -> int:\n",
    "        acc = 0\n",
    "        kdt : KDTree = KDTree(np.asarray(list(set1)), metric='euclidean')\n",
    "        for s1 in set1:\n",
    "            for s0 in set0:\n",
    "\n",
    "                k_nearest_neighbors  = k_nearest_neighbor_set(s1, set1, kdt, k, point_in_data=True)\n",
    "                acc += is_in_hypersphere(s0, k_nearest_neighbors)\n",
    "                \n",
    "        return (self.k + 1) * len(s1) + acc\n",
    "\n",
    "    @staticmethod\n",
    "    def recapture(set0 : set, set1 : set, k : int) -> int:\n",
    "        acc = 0\n",
    "        kdt : KDTree = KDTree(np.asarray(list(set1)), metric='euclidean')\n",
    "        for index, s1 in enumerate(set1):\n",
    "            for s0 in set0:\n",
    "                k_nearest_neighbors = k_nearest_neighbor_set(s1, set1, kdt, k, point_in_data=True)\n",
    "                acc += is_in_hypersphere(s0, k_nearest_neighbors) + \\\n",
    "                    len(self.mark(index, set0, set1, k).\\\n",
    "                    union(set(k_nearest_neighbors)))\n",
    "        return acc\n",
    "\n",
    "    @staticmethod\n",
    "    def estimate(set0 : set, set1 : set, k : int) -> float:\n",
    "        return capture(set0, set1, k) * len(set0.union(set1)) / recapture(set0, set1, k)"
   ]
  },
  {
   "source": [
    "# CAPTURE estimator\n",
    "\n",
    "While the previous metrics are caputre- recapture methods, the next one will be a maximum likelihood method:\n",
    "\n",
    "$L_n(P_{CAPTURE}; S, S') = ln(\\frac{P_{CAPTURE}!}{(P_{CAPTURE} - C_{total}(S',S))!}) + C_{total}(S,S') \\times ln(C_total(S,S')) + (TP_{CAPTURE} - C_{total}(S,S')) \\times ln(TP_{CAPTURE} - C_{total}(S,S')) - (TP_{Capture}ln(TP_{CAPTURE}))$ "
   ],
   "cell_type": "markdown",
   "metadata": {}
  },
  {
   "cell_type": "code",
   "execution_count": 8,
   "metadata": {},
   "outputs": [],
   "source": [
    "def capture_total(set0 : set, set1 : set, k : int) -> int:\n",
    "    kdt0 : KDTree = KDTree(np.asarray(list(set0)), metric='euclidean')\n",
    "    kdt1 : KDTree = KDTree(np.asarray(list(set1)), metric='euclidean')\n",
    "    acc : int = 0\n",
    "    for s1 in set1:\n",
    "        for s0 in set0:\n",
    "            k_nearest_neighbors_0 = k_nearest_neighbor_set(s0, set0, kdt0, k, point_in_data=True)\n",
    "            k_nearest_neighbors_1 = k_nearest_neighbor_set(s1, set1, kdt1, k, point_in_data=True)\n",
    "            acc += is_in_hypersphere(s1, k_nearest_neighbors_0) + len(k_nearest_neighbors_0) + \\\n",
    "                    is_in_hypersphere(s0, k_nearest_neighbors_1) + len(k_nearest_neighbors_1)\n",
    "    return acc\n",
    "\n",
    "def maximize_likelihood(set0 : set, set1 : set, n : int = 10e10) -> float:\n",
    "    m_t : int = len(set0.union(set1))\n",
    "    c_t : int = capture_total(set0, set1)\n",
    "    t : int = len(set0.union(set1))\n",
    "    def likelihood(p):\n",
    "        return -(\\\n",
    "            np.log(np.math.factorial(p) / np.math.factorial(p - m_t)) + \\\n",
    "            c_t * np.log(c_t) + \\\n",
    "            (t * p - c_t) * np.log(t * p - c_t) - \\\n",
    "            t * p * np.log(t * p) \\\n",
    "            )\n",
    "    int_range = np.arange(n)\n",
    "    max_val = minimize(likelihood, int_range, method=\"nelder-mead\", options={'xatol':1e-8, }) \n",
    "    return 0\n",
    "\n"
   ]
  },
  {
   "source": [
    "# Accuracy\n",
    "\n",
    "Accuracy loss function. 0 indicatates a good estimation, 1 indicates a bad estimation.\n",
    "\n",
    "\n",
    "$A(P, \\hat{P}) = max(|\\frac{\\hat{P}- P}{P}|, 1)$"
   ],
   "cell_type": "markdown",
   "metadata": {}
  },
  {
   "cell_type": "code",
   "execution_count": null,
   "metadata": {},
   "outputs": [],
   "source": [
    "def accuracy_loss(p_hat, p):\n",
    "    # Errorhandling\n",
    "    if p == 0:\n",
    "        return -1\n",
    "    a = abs((p_hat - p) / p)\n",
    "    return 1 if a > 1 else a\n",
    "\n",
    "def accuracy_loss_TEST():\n",
    "    assert accuracy_loss(4, 5) == 0.2\n",
    "    assert accuracy_loss(5, 2) == 1\n",
    "    assert accuracy_loss(0, 0)\n",
    "\n",
    "accuracy_loss_TEST()"
   ]
  }
 ]
}