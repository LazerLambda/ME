{
 "metadata": {
  "language_info": {
   "codemirror_mode": {
    "name": "ipython",
    "version": 3
   },
   "file_extension": ".py",
   "mimetype": "text/x-python",
   "name": "python",
   "nbconvert_exporter": "python",
   "pygments_lexer": "ipython3",
   "version": "3.8.5"
  },
  "orig_nbformat": 2,
  "kernelspec": {
   "name": "python38564biteecc030c0a5c4e8bb53163bec15b264f",
   "display_name": "Python 3.8.5 64-bit",
   "language": "python"
  }
 },
 "nbformat": 4,
 "nbformat_minor": 2,
 "cells": [
  {
   "cell_type": "code",
   "execution_count": 17,
   "metadata": {},
   "outputs": [
    {
     "output_type": "execute_result",
     "data": {
      "text/plain": [
       "(array([[0.        , 0.23350576, 0.48802903]]), array([[0, 1, 2]]))"
      ]
     },
     "metadata": {},
     "execution_count": 17
    }
   ],
   "source": [
    "import numpy as np\n",
    "from scipy.optimize import minimize, rosen\n",
    "from sklearn.neighbors import KDTree\n",
    "\n",
    "X = np.random.rand(5, 2)\n",
    "kdt : KDTree = KDTree(X, metric='euclidean')\n",
    "kdt.query([X[0]], k = 3)"
   ]
  },
  {
   "cell_type": "code",
   "execution_count": 8,
   "metadata": {},
   "outputs": [
    {
     "output_type": "execute_result",
     "data": {
      "text/plain": [
       "array([0.17036821, 0.18831528])"
      ]
     },
     "metadata": {},
     "execution_count": 8
    }
   ],
   "source": [
    "X[0]"
   ]
  },
  {
   "cell_type": "code",
   "execution_count": 48,
   "metadata": {},
   "outputs": [],
   "source": [
    "def hypersphere(elem, sample, k):\n",
    "    kdt : KDTree = KDTree(sample, metric='euclidean')\n",
    "    for s in sample:\n",
    "        k_nn_dist, k_nn = kdt.query([s], k= k + 1)\n",
    "        if np.linalg.norm(elem - s) <= np.amax(k_nn_dist):\n",
    "            return 1\n",
    "    return 0\n",
    "\n",
    "def knn_set(elem, sample, k):\n",
    "    kdt : KDTree = KDTree(sample, metric='euclidean')\n",
    "    _, k_nn = kdt.query([elem], k= k + 1)\n",
    "    return sample[k_nn[0]]"
   ]
  },
  {
   "cell_type": "code",
   "execution_count": 47,
   "metadata": {},
   "outputs": [
    {
     "output_type": "execute_result",
     "data": {
      "text/plain": [
       "99"
      ]
     },
     "metadata": {},
     "execution_count": 47
    }
   ],
   "source": [
    "acc = 0\n",
    "for elem0 in X:\n",
    "    for elem1 in X:\n",
    "        acc += hypersphere(elem1, knn_set(elem0, X, k = 2), k = 2) + len(knn_set(elem0, X, k = 2))\n",
    "acc"
   ]
  },
  {
   "cell_type": "code",
   "execution_count": 49,
   "metadata": {},
   "outputs": [
    {
     "output_type": "execute_result",
     "data": {
      "text/plain": [
       "30"
      ]
     },
     "metadata": {},
     "execution_count": 49
    }
   ],
   "source": [
    "5 * 2 *(2 + 1)"
   ]
  },
  {
   "cell_type": "code",
   "execution_count": 57,
   "metadata": {},
   "outputs": [
    {
     "output_type": "execute_result",
     "data": {
      "text/plain": [
       "99"
      ]
     },
     "metadata": {},
     "execution_count": 57
    }
   ],
   "source": [
    "8 * (2 + 1) + 5 ** 2 * (2 + 1)"
   ]
  },
  {
   "cell_type": "code",
   "execution_count": null,
   "metadata": {},
   "outputs": [],
   "source": []
  }
 ]
}